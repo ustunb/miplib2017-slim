{
 "cells": [
  {
   "cell_type": "markdown",
   "metadata": {
    "deletable": true,
    "editable": true
   },
   "source": [
    "# Solving the SLIM MIP"
   ]
  },
  {
   "cell_type": "markdown",
   "metadata": {
    "deletable": true,
    "editable": true
   },
   "source": [
    "This script shows how to solve the SLIM MIP using CPLEX. Here, we solve the MIP, run unit tests on the solution, and output the resulting scoring system model as well as some statistics about the MIP solver. Edit the variables in the following cell in order to pick a different instance."
   ]
  },
  {
   "cell_type": "code",
   "execution_count": 4,
   "metadata": {
    "collapsed": false,
    "deletable": true,
    "editable": true
   },
   "outputs": [],
   "source": [
    "data_name = 'breastcancer'\n",
    "instance_name = data_name + '_max_5_features'\n",
    "repository_dir = '/Users/berk/Desktop/Dropbox (MIT)/Research/SLIM/Toolboxes/miplib2017-slim'\n",
    "data_file = repository_dir + '/models/data/' + data_name + '_processed.csv'\n",
    "instance_file = repository_dir + '/instances/' + instance_name + '.mps'\n",
    "instance_info_file = repository_dir + '/misc/' + instance_name + '.p'"
   ]
  },
  {
   "cell_type": "markdown",
   "metadata": {
    "deletable": true,
    "editable": true
   },
   "source": [
    "The next cell loads packages and files needed to run the script. Use ``slim_mip.parameters`` to pass parameters for CPLEX."
   ]
  },
  {
   "cell_type": "code",
   "execution_count": 12,
   "metadata": {
    "collapsed": false,
    "deletable": true,
    "editable": true
   },
   "outputs": [
    {
     "name": "stdout",
     "output_type": "stream",
     "text": [
      "\n",
      "Selected objective sense:  MINIMIZE\n",
      "Selected objective  name:  obj\n",
      "Selected RHS        name:  rhs\n",
      "Selected bound      name:  bnd\n"
     ]
    }
   ],
   "source": [
    "import os\n",
    "import sys\n",
    "import numpy as np\n",
    "import cplex as cpx\n",
    "import pickle\n",
    "import slim as slim\n",
    "from pprint import pprint\n",
    "\n",
    "#load IP\n",
    "slim_mip = cpx.Cplex(instance_file)\n",
    "slim_info = pickle.load(open(instance_info_file))\n",
    "data = slim.load_data_from_csv(data_file)\n",
    "\n",
    "#set CPLEX IP parameters\n",
    "slim_mip.parameters.timelimit.set(60)\n",
    "slim_mip.parameters.randomseed.set(0)\n",
    "slim_mip.parameters.output.clonelog.set(0)\n",
    "slim_mip.parameters.threads.set(1)\n",
    "slim_mip.parameters.parallel.set(1)\n",
    "slim_mip.parameters.mip.tolerances.mipgap.set(np.finfo(np.float).eps)\n",
    "slim_mip.parameters.mip.tolerances.absmipgap.set(np.finfo(np.float).eps)\n",
    "slim_mip.parameters.mip.tolerances.integrality.set(np.finfo(np.float).eps)"
   ]
  },
  {
   "cell_type": "markdown",
   "metadata": {
    "deletable": true,
    "editable": true
   },
   "source": [
    "We now solve the slim_mip"
   ]
  },
  {
   "cell_type": "code",
   "execution_count": 13,
   "metadata": {
    "collapsed": false,
    "deletable": true,
    "editable": true
   },
   "outputs": [
    {
     "name": "stdout",
     "output_type": "stream",
     "text": [
      "Found incumbent of value 228.271421 after 0.00 sec. (0.28 ticks)\n",
      "Tried aggregator 2 times.\n",
      "MIP Presolve modified 683 coefficients.\n",
      "Aggregator did 3 substitutions.\n",
      "Reduced MIP has 720 rows, 712 columns, and 7595 nonzeros.\n",
      "Reduced MIP has 692 binaries, 11 generals, 0 SOSs, and 0 indicators.\n",
      "Presolve time = 0.01 sec. (5.39 ticks)\n",
      "Probing time = 0.00 sec. (0.89 ticks)\n",
      "Tried aggregator 1 time.\n",
      "MIP Presolve eliminated 234 rows and 0 columns.\n",
      "Reduced MIP has 486 rows, 478 columns, and 5021 nonzeros.\n",
      "Reduced MIP has 458 binaries, 20 generals, 0 SOSs, and 0 indicators.\n",
      "Presolve time = 0.01 sec. (2.18 ticks)\n",
      "Probing time = 0.00 sec. (0.27 ticks)\n",
      "Tried aggregator 1 time.\n",
      "Reduced MIP has 486 rows, 478 columns, and 5021 nonzeros.\n",
      "Reduced MIP has 458 binaries, 20 generals, 0 SOSs, and 0 indicators.\n",
      "Presolve time = 0.00 sec. (1.56 ticks)\n",
      "Probing time = 0.00 sec. (0.27 ticks)\n",
      "MIP emphasis: balance optimality and feasibility.\n",
      "MIP search method: dynamic search.\n",
      "Parallel mode: none, using 1 thread.\n",
      "Root relaxation solution time = 0.00 sec. (4.88 ticks)\n",
      "\n",
      "        Nodes                                         Cuts/\n",
      "   Node  Left     Objective  IInf  Best Integer    Best Bound    ItCnt     Gap\n",
      "\n",
      "*     0+    0                          228.2714        0.0000           100.00%\n",
      "      0     0        0.1346    71      228.2714        0.1346      115   99.94%\n",
      "      0     0        0.1883    64      228.2714     Fract: 19      144   99.92%\n",
      "      0     0        0.2234    68      228.2714      Fract: 6      168   99.90%\n",
      "*     0+    0                           39.1805        0.2234            99.43%\n",
      "*     0+    0                           21.3609        0.2234            98.95%\n",
      "      0     2        0.2234    68       21.3609        0.2239      168   98.95%\n",
      "Elapsed time = 0.29 sec. (327.34 ticks, tree = 0.01 MB, solutions = 3)\n",
      "*   100+   75                           16.3628        0.2380            98.55%\n",
      "    140    97        3.7458    77       16.3628        0.3184     3171   98.05%\n",
      "    455   322        5.4064    56       16.3628        0.4587    11725   97.20%\n",
      "    935   637        3.8139    66       16.3628        0.9738    20494   94.05%\n",
      "    986   682        6.2803    68       16.3628        6.2805    22563   61.62%\n",
      "    996   690        7.3230    60       16.3628        6.4301    23206   60.70%\n",
      "   1050   542        7.7425    91       16.3628        6.5770    24438   59.81%\n",
      "   1148   496       10.7675    79       16.3628        6.7575    27350   58.70%\n",
      "   1308   481        8.2303    71       16.3628        7.1619    31471   56.23%\n",
      "   1546   529        9.2847    76       16.3628        7.2287    37689   55.82%\n",
      "   2534  1021       10.2035   106       16.3628        7.5844    64373   53.65%\n",
      "Elapsed time = 3.49 sec. (4177.17 ticks, tree = 0.49 MB, solutions = 4)\n",
      "   3372  1562       10.4865    66       16.3628        7.7386    88465   52.71%\n",
      "   4254  2194       12.5804    76       16.3628        7.9978   113779   51.12%\n",
      "   5267  2832       11.1993   103       16.3628        8.1484   140760   50.20%\n",
      "*  5986+ 3209                           15.4545        8.2521            46.60%\n",
      "*  6086+ 2999                           14.4538        8.2668            42.81%\n",
      "   6116  3024       13.0157   113       14.4538        8.2711   162266   42.78%\n",
      "   6927  3503        9.4231    69       14.4538        8.3771   187187   42.04%\n",
      "   7781  4027       13.5877    97       14.4538        8.4503   214466   41.54%\n",
      "   8502  4458        9.0722    38       14.4538        8.5063   233689   41.15%\n",
      "*  8986+ 4746                           14.4531        8.5428            40.89%\n",
      "   9186  4861       11.0924    57       14.4531        8.5644   254236   40.74%\n",
      "  10015  5354        9.4390    68       14.4531        8.6201   280012   40.36%\n",
      "  10846  5861       10.2029   124       14.4531        8.6616   303312   40.07%\n",
      "Elapsed time = 10.87 sec. (13871.02 ticks, tree = 2.94 MB, solutions = 7)\n",
      "  10861  5870        7.8881   108       14.4531        8.6620   304795   40.07%\n",
      "  10915  4662        7.9440    58       14.4531        8.6620   307220   40.07%\n",
      "  11135  3942        8.3646   173       14.4531        8.6620   314611   40.07%\n",
      "  11273  3730       12.6983   163       14.4531        8.6620   319438   40.07%\n",
      "  11675  3472       10.1452   104       14.4531        8.6620   331508   40.07%\n",
      "  12055  3394       13.5533    68       14.4531        8.6620   344361   40.07%\n",
      "  12727  3378        9.4042    74       14.4531        8.6620   363694   40.07%\n",
      "  13419  3417        8.7251    75       14.4531        8.6620   385229   40.07%\n",
      "  14104  3478       10.4814    78       14.4531        8.6800   407139   39.94%\n",
      "  14936  3544        9.1214    93       14.4531        8.8276   433018   38.92%\n",
      "Elapsed time = 18.27 sec. (23461.54 ticks, tree = 1.66 MB, solutions = 7)\n",
      "  15766  3633        9.7141    63       14.4531        8.9641   459058   37.98%\n",
      "  16341  3696       12.1083    87       14.4531        9.0329   475703   37.50%\n",
      "  17203  4091        9.8803    51       14.4531        9.1144   501416   36.94%\n",
      "  18023  4596        cutoff             14.4531        9.1980   528266   36.36%\n",
      "  18794  5049       13.1454   207       14.4531        9.2478   554412   36.02%\n",
      "  19544  5504    infeasible             14.4531        9.2891   578255   35.73%\n",
      "  20264  5932       12.4247   130       14.4531        9.3302   599421   35.45%\n",
      "  21034  6406       11.6089    86       14.4531        9.3718   621860   35.16%\n",
      "  21945  6943       13.6114    69       14.4531        9.4090   649797   34.90%\n",
      "  22783  7460       12.2721   179       14.4531        9.4421   675323   34.67%\n",
      "Elapsed time = 25.93 sec. (33010.42 ticks, tree = 3.25 MB, solutions = 7)\n",
      "  23519  7878       10.1391    63       14.4531        9.4742   697252   34.45%\n",
      "  24449  8383       10.2435    74       14.4531        9.5146   723479   34.17%\n",
      "  25279  8858       12.0054    83       14.4531        9.5477   749973   33.94%\n",
      "  26032  9268       12.2661   205       14.4531        9.5727   770588   33.77%\n",
      "  26870  9756       10.2803    53       14.4531        9.6069   796414   33.53%\n",
      "  27849 10312       14.2739    72       14.4531        9.6515   823799   33.22%\n",
      "  28544 10711       13.7180   204       14.4531        9.6757   846134   33.05%\n",
      "  29272 11127       11.9810   110       14.4531        9.7023   868481   32.87%\n",
      "  29930 11466       10.8162   160       14.4531        9.7230   890163   32.73%\n",
      "  30865 12000       11.6664   199       14.4531        9.7547   919273   32.51%\n",
      "Elapsed time = 33.33 sec. (42726.22 ticks, tree = 5.22 MB, solutions = 7)\n",
      "  31619 12419        9.9890    62       14.4531        9.7809   942726   32.33%\n",
      "  32362 12830        9.9330   135       14.4531        9.8068   964680   32.15%\n",
      "  33269 13327       11.1258    77       14.4531        9.8347   991711   31.95%\n",
      "  34129 13792        cutoff             14.4531        9.8578  1020229   31.79%\n",
      "  34804 14166       10.9336    98       14.4531        9.8772  1042850   31.66%\n",
      "  35488 14558       11.1816    53       14.4531        9.8964  1063724   31.53%\n",
      "  36331 15036    infeasible             14.4531        9.9203  1089263   31.36%\n",
      "  37048 15406       10.5965    55       14.4531        9.9384  1110518   31.24%\n",
      "  37924 15912       11.2367   125       14.4531        9.9647  1137916   31.05%\n",
      "  38658 16303       11.3981   101       14.4531        9.9869  1160202   30.90%\n",
      "Elapsed time = 40.82 sec. (52275.92 ticks, tree = 6.79 MB, solutions = 7)\n",
      "  39463 16744       11.6725   203       14.4531       10.0093  1183374   30.75%\n",
      "  40381 17225       12.4259   158       14.4531       10.0335  1211436   30.58%\n",
      "  41305 17700       11.0651   147       14.4531       10.0561  1239386   30.42%\n",
      "  42147 18173       10.9535    58       14.4531       10.0754  1263959   30.29%\n",
      "  42905 18579       12.0098   184       14.4531       10.0972  1286934   30.14%\n",
      "  43671 18977       11.7818   186       14.4531       10.1157  1311450   30.01%\n",
      "  44510 19403       14.3498   174       14.4531       10.1370  1339333   29.86%\n",
      "  45456 19921       10.1809    78       14.4531       10.1577  1367473   29.72%\n",
      "  46126 20274       12.1068    41       14.4531       10.1728  1387289   29.62%\n",
      "  46830 20660        cutoff             14.4531       10.1854  1410210   29.53%\n",
      "Elapsed time = 48.17 sec. (61831.46 ticks, tree = 9.05 MB, solutions = 7)\n",
      "  47468 20976       12.5808    32       14.4531       10.1977  1429227   29.44%\n",
      "  48409 21468       12.2056   181       14.4531       10.2135  1456751   29.33%\n",
      "  49346 21935       10.7433    97       14.4531       10.2316  1484633   29.21%\n",
      "  50307 22471       11.2393    55       14.4531       10.2441  1511319   29.12%\n",
      "  51029 22882       11.5826    98       14.4531       10.2549  1534142   29.05%\n",
      "  51822 23310       12.7173    84       14.4531       10.2664  1557608   28.97%\n",
      "  52672 23781       11.2329    81       14.4531       10.2773  1584785   28.89%\n",
      "  53421 24172       11.7555    70       14.4531       10.2897  1606405   28.81%\n",
      "  53869 24408       11.4669    63       14.4531       10.2954  1619351   28.77%\n",
      "  54349 24668       13.9339    42       14.4531       10.3020  1632063   28.72%\n",
      "Elapsed time = 55.61 sec. (71514.29 ticks, tree = 10.50 MB, solutions = 7)\n",
      "  54649 24827       14.1936    47       14.4531       10.3063  1640805   28.69%\n",
      "  55049 25037       13.5067   100       14.4531       10.3127  1652990   28.65%\n",
      "  55382 25226       11.7927   136       14.4531       10.3173  1662087   28.61%\n",
      "  56082 25597       13.0624   175       14.4531       10.3265  1680901   28.55%\n",
      "  57049 26103       11.6319    41       14.4531       10.3386  1706408   28.47%\n",
      "\n",
      "Cover cuts applied:  96\n",
      "Mixed integer rounding cuts applied:  2\n",
      "Zero-half cuts applied:  2\n",
      "Gomory fractional cuts applied:  9\n",
      "\n",
      "Root node processing (before b&c):\n",
      "  Real time             =    0.30 sec. (327.35 ticks)\n",
      "Sequential b&c:\n",
      "  Real time             =   59.71 sec. (76921.84 ticks)\n",
      "                          ------------\n",
      "Total (root+branch&cut) =   60.00 sec. (77249.19 ticks)\n"
     ]
    }
   ],
   "source": [
    "slim_mip.solve()"
   ]
  },
  {
   "cell_type": "markdown",
   "metadata": {
    "collapsed": true,
    "deletable": true,
    "editable": true
   },
   "source": [
    "Once we have solved the mip, we can use:\n",
    "\n",
    "- ``slim.check_ip_solution`` to make sure that the solution passes unit tests\n",
    "- ``slim.get_slim_summary(slim_mip, slim_info, data)`` to get information about the MIP and SLIM scoring system."
   ]
  },
  {
   "cell_type": "code",
   "execution_count": 14,
   "metadata": {
    "collapsed": false,
    "deletable": true,
    "editable": true
   },
   "outputs": [
    {
     "name": "stdout",
     "output_type": "stream",
     "text": [
      "{'L0_norm': 13.0,\n",
      " 'error_rate': 0,\n",
      " 'false_negatives': 2,\n",
      " 'false_positive_rate': 0,\n",
      " 'false_positives': 12,\n",
      " 'mistakes': 14,\n",
      " 'nodes_processed': 57656L,\n",
      " 'nodes_remaining': 26402L,\n",
      " 'objective_value': 14.453078947368418,\n",
      " 'objval_lowerbound': 0.28406769853810926,\n",
      " 'optimality_gap': 10.347426073971466,\n",
      " 'pretty_model': <prettytable.PrettyTable object at 0x10c247810>,\n",
      " 'rho': array([-46.,   4.,   2.,   2.,   0.,   0.,   3.,   0.,   2.,   0.]),\n",
      " 'simplex_iterations': 1723965L,\n",
      " 'solution_status': 'time limit exceeded',\n",
      " 'solution_status_code': 107,\n",
      " 'string_model': '',\n",
      " 'true_negatives': 432,\n",
      " 'true_positive_rate': 0,\n",
      " 'true_positives': 237}\n"
     ]
    }
   ],
   "source": [
    "slim.check_slim_ip_solution(slim_mip, slim_info, data)\n",
    "slim_results = slim.get_slim_summary(slim_mip, slim_info, data)\n",
    "pprint(slim_results)"
   ]
  },
  {
   "cell_type": "markdown",
   "metadata": {},
   "source": [
    "The ``slim_results`` object also contains a nice printout of the SLIM scoring system. "
   ]
  },
  {
   "cell_type": "code",
   "execution_count": 16,
   "metadata": {
    "collapsed": false,
    "deletable": true,
    "editable": true
   },
   "outputs": [
    {
     "name": "stdout",
     "output_type": "stream",
     "text": [
      "+-------------------------------+------------------+-----------+\n",
      "| PREDICT B IF SCORE >= -46     |                  |           |\n",
      "| ============================= | ================ | ========= |\n",
      "| ClumpThickness                |         4 points |   + ..... |\n",
      "| BareNuclei                    |         3 points |   + ..... |\n",
      "| UniformityOfCellSize          |         2 points |   + ..... |\n",
      "| UniformityOfCellShape         |         2 points |   + ..... |\n",
      "| NormalNucleoli                |         2 points |   + ..... |\n",
      "| ============================= | ================ | ========= |\n",
      "| ADD POINTS FROM ROWS 1 to 5   |            SCORE |   = ..... |\n",
      "+-------------------------------+------------------+-----------+\n"
     ]
    }
   ],
   "source": [
    "print(slim_results['pretty_model'])"
   ]
  }
 ],
 "metadata": {
  "kernelspec": {
   "display_name": "Python 2",
   "language": "python",
   "name": "python2"
  },
  "language_info": {
   "codemirror_mode": {
    "name": "ipython",
    "version": 2
   },
   "file_extension": ".py",
   "mimetype": "text/x-python",
   "name": "python",
   "nbconvert_exporter": "python",
   "pygments_lexer": "ipython2",
   "version": "2.7.11"
  }
 },
 "nbformat": 4,
 "nbformat_minor": 0
}
