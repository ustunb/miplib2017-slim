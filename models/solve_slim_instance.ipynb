{
 "cells": [
  {
   "cell_type": "markdown",
   "metadata": {
    "deletable": true,
    "editable": true
   },
   "source": [
    "# Solving the SLIM MIP"
   ]
  },
  {
   "cell_type": "markdown",
   "metadata": {},
   "source": [
    "This script shows how to solve the SLIM MIP using CPLEX. Here, we solve the MIP, run unit tests on the solution, and output the resulting scoring system model as well as some statistics about the MIP solver. Edit the variables in the following cell in order to pick a different instance."
   ]
  },
  {
   "cell_type": "code",
   "execution_count": 1,
   "metadata": {
    "collapsed": false,
    "deletable": true,
    "editable": true
   },
   "outputs": [],
   "source": [
    "data_name = 'breastcancer'\n",
    "instance_name = data_name + '_max_5_features'\n",
    "repository_dir = '/Users/berk/Desktop/Dropbox (MIT)/Research/SLIM/Toolboxes/miplib2017-slim'\n",
    "data_file = repository_dir + '/models/data/' + data_name + '_processed.csv'\n",
    "instance_file = repository_dir + '/instances/' + instance_name + '.mps'\n",
    "instance_info_file = repository_dir + '/misc/' + instance_name + '.p'"
   ]
  },
  {
   "cell_type": "markdown",
   "metadata": {
    "deletable": true,
    "editable": true
   },
   "source": [
    "The next cell loads packages and files needed to run the script. Use ``slim_mip.parameters`` to pass parameters for CPLEX."
   ]
  },
  {
   "cell_type": "code",
   "execution_count": 13,
   "metadata": {
    "collapsed": false,
    "deletable": true,
    "editable": true
   },
   "outputs": [
    {
     "name": "stdout",
     "output_type": "stream",
     "text": [
      "\n",
      "Selected objective sense:  MINIMIZE\n",
      "Selected objective  name:  obj\n",
      "Selected RHS        name:  rhs\n",
      "Selected bound      name:  bnd\n"
     ]
    }
   ],
   "source": [
    "import os\n",
    "import sys\n",
    "import numpy as np\n",
    "import cplex as cpx\n",
    "import pickle\n",
    "import slim as slim\n",
    "\n",
    "#load IP\n",
    "slim_mip = cpx.Cplex(instance_file)\n",
    "slim_info = pickle.load(open(instance_info_file))\n",
    "data = slim.load_data_from_csv(data_file)\n",
    "\n",
    "#set CPLEX IP parameters\n",
    "slim_mip.parameters.timelimit.set(60)\n",
    "slim_mip.parameters.randomseed.set(0)\n",
    "slim_mip.parameters.output.clonelog.set(0)\n",
    "slim_mip.parameters.threads.set(1)\n",
    "slim_mip.parameters.parallel.set(1)\n",
    "slim_mip.parameters.mip.tolerances.mipgap.set(np.finfo(np.float).eps)\n",
    "slim_mip.parameters.mip.tolerances.absmipgap.set(np.finfo(np.float).eps)\n",
    "slim_mip.parameters.mip.tolerances.integrality.set(np.finfo(np.float).eps)"
   ]
  },
  {
   "cell_type": "markdown",
   "metadata": {
    "deletable": true,
    "editable": true
   },
   "source": [
    "We now solve the slim_mip, and use ``slim.check_ip_solution`` to make sure that the solution passes unit tests."
   ]
  },
  {
   "cell_type": "code",
   "execution_count": 14,
   "metadata": {
    "collapsed": false,
    "deletable": true,
    "editable": true
   },
   "outputs": [
    {
     "name": "stdout",
     "output_type": "stream",
     "text": [
      "\n",
      "        Nodes                                         Cuts/\n",
      "   Node  Left     Objective  IInf  Best Integer    Best Bound    ItCnt     Gap\n",
      "\n",
      "  59991 27599       12.8139    84       14.4531       10.3728  1789387   28.23%\n",
      "Elapsed time = 0.01 sec. (5.44 ticks, tree = 11.57 MB, solutions = 7)\n",
      "  60177 27690       10.6575    94       14.4531       10.3751  1795902   28.22%\n",
      "  60355 27783       13.4063    62       14.4531       10.3768  1802082   28.20%\n",
      "  60572 27893       10.7072   163       14.4531       10.3792  1808049   28.19%\n",
      "  60811 28004        cutoff             14.4531       10.3818  1814695   28.17%\n",
      "  61043 28123       12.2894    61       14.4531       10.3844  1820550   28.15%\n",
      "  61259 28218       11.3623    79       14.4531       10.3867  1826658   28.13%\n",
      "  61512 28342       11.2557    39       14.4531       10.3897  1833411   28.11%\n",
      "  61779 28478       11.3323    56       14.4531       10.3934  1840440   28.09%\n",
      "  61849 28514       13.7603    67       14.4531       10.3938  1843045   28.09%\n",
      "  62933 29040       13.9608    96       14.4531       10.4062  1872963   28.00%\n",
      "Elapsed time = 2.45 sec. (3210.73 ticks, tree = 12.10 MB, solutions = 7)\n",
      "  64004 29581    infeasible             14.4531       10.4187  1902855   27.91%\n",
      "  64923 30032       10.8908    55       14.4531       10.4290  1929769   27.84%\n",
      "  65916 30543       11.4356    61       14.4531       10.4387  1954541   27.78%\n",
      "  66875 31022       12.3807    62       14.4531       10.4471  1979907   27.72%\n",
      "  67870 31489       12.4534   110       14.4531       10.4563  2008365   27.65%\n",
      "  68849 31958       10.4886    70       14.4531       10.4657  2035463   27.59%\n",
      "  69862 32465       12.2583    36       14.4531       10.4751  2064452   27.52%\n",
      "  70715 32849       11.9983   146       14.4531       10.4840  2089689   27.46%\n",
      "  71378 33168       11.5178    65       14.4531       10.4922  2109338   27.41%\n",
      "  72364 33615       14.3817   151       14.4531       10.5023  2135973   27.34%\n",
      "Elapsed time = 9.57 sec. (12940.91 ticks, tree = 15.15 MB, solutions = 7)\n",
      "  73346 34095       13.0084    81       14.4531       10.5118  2164085   27.27%\n",
      "  74407 34613       13.6490   115       14.4531       10.5213  2192352   27.20%\n",
      "  75478 35088        cutoff             14.4531       10.5338  2219656   27.12%\n",
      "  76173 35399        cutoff             14.4531       10.5421  2239869   27.06%\n",
      "  77030 35799       12.4980    91       14.4531       10.5489  2264862   27.01%\n",
      "  77936 36224       11.8504    69       14.4531       10.5581  2290550   26.95%\n",
      "  78995 36724       13.2785    92       14.4531       10.5685  2318483   26.88%\n",
      "  80075 37241       11.7528   101       14.4531       10.5774  2346529   26.82%\n",
      "  80869 37605       10.6601    67       14.4531       10.5847  2367237   26.77%\n",
      "  81902 38162       11.9520    39       14.4531       10.5938  2392804   26.70%\n",
      "Elapsed time = 16.79 sec. (22484.47 ticks, tree = 16.81 MB, solutions = 7)\n",
      "  82820 38583       13.5424   101       14.4531       10.6005  2417243   26.66%\n",
      "  83657 38987       14.2649   186       14.4531       10.6081  2441044   26.60%\n",
      "  84682 39458       12.5474   224       14.4531       10.6181  2466972   26.53%\n",
      "  85656 39892       13.7038   111       14.4531       10.6281  2495212   26.46%\n",
      "  86767 40445       12.6952   153       14.4531       10.6389  2524020   26.39%\n",
      "  87781 40935       12.2551   111       14.4531       10.6480  2552612   26.33%\n",
      "  88678 41339       13.9811    52       14.4531       10.6566  2577417   26.27%\n",
      "  89354 41650       11.8983   182       14.4531       10.6649  2596093   26.21%\n",
      "  90296 42081       12.3189    55       14.4531       10.6733  2621862   26.15%\n",
      "  91219 42476       12.2246   107       14.4531       10.6809  2647023   26.10%\n",
      "Elapsed time = 23.93 sec. (32073.22 ticks, tree = 18.38 MB, solutions = 7)\n",
      "  92251 42962       11.2166   173       14.4531       10.6915  2674227   26.03%\n",
      "  93233 43436       14.4264   145       14.4531       10.6998  2702475   25.97%\n",
      "  94259 43907       13.0533   101       14.4531       10.7086  2728524   25.91%\n",
      "  95245 44394       10.8276   147       14.4531       10.7178  2755479   25.84%\n",
      "  95881 44679       11.8742    86       14.4531       10.7253  2775034   25.79%\n",
      "  96778 45055       12.7922    89       14.4531       10.7339  2799866   25.73%\n",
      "  97772 45513       13.5813    54       14.4531       10.7450  2824726   25.66%\n",
      "  98711 45963    infeasible             14.4531       10.7539  2850036   25.59%\n",
      "  99769 46496       12.0798   113       14.4531       10.7637  2877737   25.53%\n",
      " 100872 46997       12.1513   110       14.4531       10.7748  2905747   25.45%\n",
      "Elapsed time = 31.17 sec. (41635.38 ticks, tree = 20.02 MB, solutions = 7)\n",
      " 101803 47433       11.5468    78       14.4531       10.7827  2934499   25.40%\n",
      " 102829 47948       10.9576   124       14.4531       10.7918  2961124   25.33%\n",
      " 103491 48234       12.2447    96       14.4531       10.7986  2979982   25.29%\n",
      " 104290 48604       10.9969    71       14.4531       10.8086  3004914   25.22%\n",
      " 105248 49063       13.0586    90       14.4531       10.8165  3030651   25.16%\n",
      " 106240 49550        cutoff             14.4531       10.8250  3056891   25.10%\n",
      " 107232 49999       13.1733    66       14.4531       10.8350  3085282   25.03%\n",
      " 108212 50416       14.3206    32       14.4531       10.8442  3112667   24.97%\n",
      " 109210 50876       11.1566    60       14.4531       10.8548  3140896   24.90%\n",
      " 110199 51306       13.5429    70       14.4531       10.8656  3167851   24.82%\n",
      "Elapsed time = 38.27 sec. (51176.32 ticks, tree = 21.58 MB, solutions = 7)\n",
      " 110957 51646       11.0235   106       14.4531       10.8734  3186406   24.77%\n",
      " 111801 52012       13.4562    97       14.4531       10.8832  3211128   24.70%\n",
      " 112753 52447        cutoff             14.4531       10.8941  3235883   24.62%\n",
      " 113591 52784       12.5683    52       14.4531       10.9038  3262559   24.56%\n",
      " 114358 53114        cutoff             14.4531       10.9114  3285559   24.50%\n",
      " 115331 53551       12.1269    54       14.4531       10.9221  3313470   24.43%\n",
      " 116318 54015       11.4761    62       14.4531       10.9315  3342336   24.37%\n",
      " 117315 54474       12.1621    55       14.4531       10.9408  3370265   24.30%\n",
      " 118204 54851        cutoff             14.4531       10.9505  3395261   24.23%\n",
      " 118867 55137       13.1269   138       14.4531       10.9577  3414155   24.18%\n",
      "Elapsed time = 45.13 sec. (60728.54 ticks, tree = 22.97 MB, solutions = 7)\n",
      " 119729 55528       12.6467    87       14.4531       10.9660  3439272   24.13%\n",
      " 120586 55891       11.3141   153       14.4531       10.9740  3464720   24.07%\n",
      " 121564 56309       13.7068   209       14.4531       10.9834  3491941   24.01%\n",
      " 122552 56770       13.0493    59       14.4531       10.9924  3520505   23.94%\n",
      " 123555 57238       13.8465    69       14.4531       11.0013  3548576   23.88%\n",
      " 124379 57597       12.7761    60       14.4531       11.0090  3568898   23.83%\n",
      " 125371 58027       11.6387    78       14.4531       11.0202  3596303   23.75%\n",
      " 126264 58442       11.5171   135       14.4531       11.0286  3621052   23.69%\n",
      " 127248 58907       12.9839   187       14.4531       11.0381  3645747   23.63%\n",
      " 128137 59290        cutoff             14.4531       11.0468  3670256   23.57%\n",
      "Elapsed time = 52.16 sec. (70271.13 ticks, tree = 24.52 MB, solutions = 7)\n",
      " 129120 59752       13.5307   124       14.4531       11.0564  3696728   23.50%\n",
      " 130159 60225       12.5981    62       14.4531       11.0660  3724124   23.44%\n",
      " 130898 60553       13.6732   142       14.4531       11.0748  3743840   23.37%\n",
      " 131299 60724       12.4951    54       14.4531       11.0790  3753381   23.35%\n",
      " 131557 60847       13.1245   203       14.4531       11.0813  3760030   23.33%\n",
      " 131996 61042       11.5070    56       14.4531       11.0857  3772759   23.30%\n",
      " 132349 61194       12.4657    51       14.4531       11.0892  3783393   23.27%\n",
      " 132809 61376       11.8958    61       14.4531       11.0952  3797669   23.23%\n",
      " 133079 61486       12.1284   203       14.4531       11.0988  3804609   23.21%\n",
      " 133827 61820       13.5904    95       14.4531       11.1059  3824776   23.16%\n",
      "Elapsed time = 59.59 sec. (80013.88 ticks, tree = 25.46 MB, solutions = 7)\n",
      "\n",
      "Cover cuts applied:  115\n",
      "Mixed integer rounding cuts applied:  4\n",
      "Zero-half cuts applied:  2\n",
      "Gomory fractional cuts applied:  10\n",
      "\n",
      "Root node processing (before b&c):\n",
      "  Real time             =    0.00 sec. (0.07 ticks)\n",
      "Sequential b&c:\n",
      "  Real time             =   60.00 sec. (80638.44 ticks)\n",
      "                          ------------\n",
      "Total (root+branch&cut) =   60.00 sec. (80638.52 ticks)\n"
     ]
    },
    {
     "name": "stderr",
     "output_type": "stream",
     "text": [
      "CPLEX Error  1217: No solution exists.\n"
     ]
    },
    {
     "ename": "CplexSolverError",
     "evalue": "CPLEX Error  1217: No solution exists.",
     "traceback": [
      "\u001b[0;31m---------------------------------------------------------------------------\u001b[0m",
      "\u001b[0;31mCplexSolverError\u001b[0m                          Traceback (most recent call last)",
      "\u001b[0;32m<ipython-input-14-7eb8fcfcaa48>\u001b[0m in \u001b[0;36m<module>\u001b[0;34m()\u001b[0m\n\u001b[1;32m      1\u001b[0m \u001b[0mslim_IP\u001b[0m\u001b[0;34m.\u001b[0m\u001b[0msolve\u001b[0m\u001b[0;34m(\u001b[0m\u001b[0;34m)\u001b[0m\u001b[0;34m\u001b[0m\u001b[0m\n\u001b[0;32m----> 2\u001b[0;31m \u001b[0mslim\u001b[0m\u001b[0;34m.\u001b[0m\u001b[0mcheck_slim_ip_solution\u001b[0m\u001b[0;34m(\u001b[0m\u001b[0mslim_mip\u001b[0m\u001b[0;34m,\u001b[0m \u001b[0mslim_info\u001b[0m\u001b[0;34m,\u001b[0m \u001b[0mdata\u001b[0m\u001b[0;34m)\u001b[0m\u001b[0;34m\u001b[0m\u001b[0m\n\u001b[0m",
      "\u001b[0;32m/Users/berk/Desktop/Dropbox (MIT)/Research/SLIM/Toolboxes/miplib2017-slim/models/slim/helper_functions.pyc\u001b[0m in \u001b[0;36mcheck_slim_ip_solution\u001b[0;34m(slim_mip, slim_info, data)\u001b[0m\n\u001b[1;32m    267\u001b[0m \u001b[0;34m\u001b[0m\u001b[0m\n\u001b[1;32m    268\u001b[0m     \u001b[0;31m#MIP related sanity checks\u001b[0m\u001b[0;34m\u001b[0m\u001b[0;34m\u001b[0m\u001b[0m\n\u001b[0;32m--> 269\u001b[0;31m     \u001b[0;32massert\u001b[0m \u001b[0mlen\u001b[0m\u001b[0;34m(\u001b[0m\u001b[0mslim_mip\u001b[0m\u001b[0;34m.\u001b[0m\u001b[0msolution\u001b[0m\u001b[0;34m.\u001b[0m\u001b[0mget_values\u001b[0m\u001b[0;34m(\u001b[0m\u001b[0;34m)\u001b[0m\u001b[0;34m)\u001b[0m \u001b[0;34m==\u001b[0m \u001b[0mslim_info\u001b[0m\u001b[0;34m[\u001b[0m\u001b[0;34m'n_variables'\u001b[0m\u001b[0;34m]\u001b[0m\u001b[0;34m\u001b[0m\u001b[0m\n\u001b[0m\u001b[1;32m    270\u001b[0m \u001b[0;34m\u001b[0m\u001b[0m\n\u001b[1;32m    271\u001b[0m     \u001b[0;31m#setup function handles for convenient checking\u001b[0m\u001b[0;34m\u001b[0m\u001b[0;34m\u001b[0m\u001b[0m\n",
      "\u001b[0;32m/usr/local/lib/python2.7/site-packages/cplex/_internal/_subinterfaces.pyc\u001b[0m in \u001b[0;36mget_values\u001b[0;34m(self, *args)\u001b[0m\n\u001b[1;32m   7566\u001b[0m             \u001b[0;32mreturn\u001b[0m \u001b[0mCPX_PROC\u001b[0m\u001b[0;34m.\u001b[0m\u001b[0mgetx\u001b[0m\u001b[0;34m(\u001b[0m\u001b[0mself\u001b[0m\u001b[0;34m.\u001b[0m\u001b[0m_env\u001b[0m\u001b[0;34m.\u001b[0m\u001b[0m_e\u001b[0m\u001b[0;34m,\u001b[0m \u001b[0mself\u001b[0m\u001b[0;34m.\u001b[0m\u001b[0m_cplex\u001b[0m\u001b[0;34m.\u001b[0m\u001b[0m_lp\u001b[0m\u001b[0;34m,\u001b[0m \u001b[0ma\u001b[0m\u001b[0;34m,\u001b[0m \u001b[0mb\u001b[0m\u001b[0;34m)\u001b[0m\u001b[0;34m\u001b[0m\u001b[0m\n\u001b[1;32m   7567\u001b[0m         return apply_freeform_two_args(\n\u001b[0;32m-> 7568\u001b[0;31m             getx, self._cplex.variables.get_indices, args)\n\u001b[0m\u001b[1;32m   7569\u001b[0m \u001b[0;34m\u001b[0m\u001b[0m\n\u001b[1;32m   7570\u001b[0m     \u001b[0;32mdef\u001b[0m \u001b[0mget_reduced_costs\u001b[0m\u001b[0;34m(\u001b[0m\u001b[0mself\u001b[0m\u001b[0;34m,\u001b[0m \u001b[0;34m*\u001b[0m\u001b[0margs\u001b[0m\u001b[0;34m)\u001b[0m\u001b[0;34m:\u001b[0m\u001b[0;34m\u001b[0m\u001b[0m\n",
      "\u001b[0;32m/usr/local/lib/python2.7/site-packages/cplex/_internal/_aux_functions.pyc\u001b[0m in \u001b[0;36mapply_freeform_two_args\u001b[0;34m(fn, convert, args)\u001b[0m\n\u001b[1;32m     71\u001b[0m             \u001b[0;32mraise\u001b[0m \u001b[0mTypeError\u001b[0m\u001b[0;34m(\u001b[0m\u001b[0;34m\"expecting name or index\"\u001b[0m\u001b[0;34m)\u001b[0m\u001b[0;34m\u001b[0m\u001b[0m\n\u001b[1;32m     72\u001b[0m     \u001b[0;32melif\u001b[0m \u001b[0mlen\u001b[0m\u001b[0;34m(\u001b[0m\u001b[0margs\u001b[0m\u001b[0;34m)\u001b[0m \u001b[0;34m==\u001b[0m \u001b[0;36m0\u001b[0m\u001b[0;34m:\u001b[0m\u001b[0;34m\u001b[0m\u001b[0m\n\u001b[0;32m---> 73\u001b[0;31m         \u001b[0;32mreturn\u001b[0m \u001b[0mfn\u001b[0m\u001b[0;34m(\u001b[0m\u001b[0;36m0\u001b[0m\u001b[0;34m)\u001b[0m\u001b[0;34m\u001b[0m\u001b[0m\n\u001b[0m\u001b[1;32m     74\u001b[0m     \u001b[0;32melse\u001b[0m\u001b[0;34m:\u001b[0m\u001b[0;34m\u001b[0m\u001b[0m\n\u001b[1;32m     75\u001b[0m         \u001b[0;32mraise\u001b[0m \u001b[0mWrongNumberOfArgumentsError\u001b[0m\u001b[0;34m(\u001b[0m\u001b[0;34m)\u001b[0m\u001b[0;34m\u001b[0m\u001b[0m\n",
      "\u001b[0;32m/usr/local/lib/python2.7/site-packages/cplex/_internal/_subinterfaces.pyc\u001b[0m in \u001b[0;36mgetx\u001b[0;34m(a, b)\u001b[0m\n\u001b[1;32m   7564\u001b[0m         \"\"\"\n\u001b[1;32m   7565\u001b[0m         \u001b[0;32mdef\u001b[0m \u001b[0mgetx\u001b[0m\u001b[0;34m(\u001b[0m\u001b[0ma\u001b[0m\u001b[0;34m,\u001b[0m \u001b[0mb\u001b[0m \u001b[0;34m=\u001b[0m \u001b[0mself\u001b[0m\u001b[0;34m.\u001b[0m\u001b[0m_cplex\u001b[0m\u001b[0;34m.\u001b[0m\u001b[0mvariables\u001b[0m\u001b[0;34m.\u001b[0m\u001b[0mget_num\u001b[0m\u001b[0;34m(\u001b[0m\u001b[0;34m)\u001b[0m \u001b[0;34m-\u001b[0m \u001b[0;36m1\u001b[0m\u001b[0;34m)\u001b[0m\u001b[0;34m:\u001b[0m\u001b[0;34m\u001b[0m\u001b[0m\n\u001b[0;32m-> 7566\u001b[0;31m             \u001b[0;32mreturn\u001b[0m \u001b[0mCPX_PROC\u001b[0m\u001b[0;34m.\u001b[0m\u001b[0mgetx\u001b[0m\u001b[0;34m(\u001b[0m\u001b[0mself\u001b[0m\u001b[0;34m.\u001b[0m\u001b[0m_env\u001b[0m\u001b[0;34m.\u001b[0m\u001b[0m_e\u001b[0m\u001b[0;34m,\u001b[0m \u001b[0mself\u001b[0m\u001b[0;34m.\u001b[0m\u001b[0m_cplex\u001b[0m\u001b[0;34m.\u001b[0m\u001b[0m_lp\u001b[0m\u001b[0;34m,\u001b[0m \u001b[0ma\u001b[0m\u001b[0;34m,\u001b[0m \u001b[0mb\u001b[0m\u001b[0;34m)\u001b[0m\u001b[0;34m\u001b[0m\u001b[0m\n\u001b[0m\u001b[1;32m   7567\u001b[0m         return apply_freeform_two_args(\n\u001b[1;32m   7568\u001b[0m             getx, self._cplex.variables.get_indices, args)\n",
      "\u001b[0;32m/usr/local/lib/python2.7/site-packages/cplex/_internal/_procedural.pyc\u001b[0m in \u001b[0;36mgetx\u001b[0;34m(env, lp, begin, end)\u001b[0m\n\u001b[1;32m   1510\u001b[0m     \u001b[0mx\u001b[0m    \u001b[0;34m=\u001b[0m \u001b[0m_safeDoubleArray\u001b[0m\u001b[0;34m(\u001b[0m\u001b[0mxlen\u001b[0m\u001b[0;34m)\u001b[0m\u001b[0;34m\u001b[0m\u001b[0m\n\u001b[1;32m   1511\u001b[0m     \u001b[0mstatus\u001b[0m \u001b[0;34m=\u001b[0m \u001b[0mCR\u001b[0m\u001b[0;34m.\u001b[0m\u001b[0mCPXXgetx\u001b[0m\u001b[0;34m(\u001b[0m\u001b[0menv\u001b[0m\u001b[0;34m,\u001b[0m \u001b[0mlp\u001b[0m\u001b[0;34m,\u001b[0m \u001b[0mx\u001b[0m\u001b[0;34m,\u001b[0m \u001b[0mbegin\u001b[0m\u001b[0;34m,\u001b[0m \u001b[0mend\u001b[0m\u001b[0;34m)\u001b[0m\u001b[0;34m\u001b[0m\u001b[0m\n\u001b[0;32m-> 1512\u001b[0;31m     \u001b[0mcheck_status\u001b[0m\u001b[0;34m(\u001b[0m\u001b[0menv\u001b[0m\u001b[0;34m,\u001b[0m \u001b[0mstatus\u001b[0m\u001b[0;34m)\u001b[0m\u001b[0;34m\u001b[0m\u001b[0m\n\u001b[0m\u001b[1;32m   1513\u001b[0m     \u001b[0;32mreturn\u001b[0m \u001b[0mLAU\u001b[0m\u001b[0;34m.\u001b[0m\u001b[0marray_to_list\u001b[0m\u001b[0;34m(\u001b[0m\u001b[0mx\u001b[0m\u001b[0;34m,\u001b[0m \u001b[0mxlen\u001b[0m\u001b[0;34m)\u001b[0m\u001b[0;34m\u001b[0m\u001b[0m\n\u001b[1;32m   1514\u001b[0m \u001b[0;34m\u001b[0m\u001b[0m\n",
      "\u001b[0;32m/usr/local/lib/python2.7/site-packages/cplex/_internal/_procedural.pyc\u001b[0m in \u001b[0;36m__call__\u001b[0;34m(self, env, status, from_cb)\u001b[0m\n\u001b[1;32m    222\u001b[0m                 \u001b[0;32melse\u001b[0m\u001b[0;34m:\u001b[0m\u001b[0;34m\u001b[0m\u001b[0m\n\u001b[1;32m    223\u001b[0m                     \u001b[0merror_string\u001b[0m \u001b[0;34m=\u001b[0m \u001b[0mgeterrorstring\u001b[0m\u001b[0;34m(\u001b[0m\u001b[0menv\u001b[0m\u001b[0;34m,\u001b[0m \u001b[0mstatus\u001b[0m\u001b[0;34m)\u001b[0m\u001b[0;34m\u001b[0m\u001b[0m\n\u001b[0;32m--> 224\u001b[0;31m             \u001b[0;32mraise\u001b[0m \u001b[0mCplexSolverError\u001b[0m\u001b[0;34m(\u001b[0m\u001b[0merror_string\u001b[0m\u001b[0;34m,\u001b[0m \u001b[0menv\u001b[0m\u001b[0;34m,\u001b[0m \u001b[0mstatus\u001b[0m\u001b[0;34m)\u001b[0m\u001b[0;34m\u001b[0m\u001b[0m\n\u001b[0m\u001b[1;32m    225\u001b[0m \u001b[0;34m\u001b[0m\u001b[0m\n\u001b[1;32m    226\u001b[0m \u001b[0mcheck_status\u001b[0m \u001b[0;34m=\u001b[0m \u001b[0mStatusChecker\u001b[0m\u001b[0;34m(\u001b[0m\u001b[0;34m)\u001b[0m\u001b[0;34m\u001b[0m\u001b[0m\n",
      "\u001b[0;31mCplexSolverError\u001b[0m: CPLEX Error  1217: No solution exists."
     ],
     "output_type": "error"
    }
   ],
   "source": [
    "slim_IP.solve()\n",
    "\n",
    "\n",
    "slim.check_slim_ip_solution(slim_mip, slim_info, data)"
   ]
  },
  {
   "cell_type": "code",
   "execution_count": null,
   "metadata": {
    "collapsed": true
   },
   "outputs": [],
   "source": [
    "Get statistics for the MIP as well as the scoring system"
   ]
  },
  {
   "cell_type": "code",
   "execution_count": null,
   "metadata": {
    "collapsed": true,
    "deletable": true,
    "editable": true
   },
   "outputs": [],
   "source": [
    "slim_results = slim.get_slim_summary(slim_IP, slim_info, data)\n",
    "print(slim_results)"
   ]
  },
  {
   "cell_type": "code",
   "execution_count": null,
   "metadata": {
    "collapsed": true
   },
   "outputs": [],
   "source": [
    ""
   ]
  }
 ],
 "metadata": {
  "kernelspec": {
   "display_name": "Python 2",
   "language": "python",
   "name": "python2"
  },
  "language_info": {
   "codemirror_mode": {
    "name": "ipython",
    "version": 2.0
   },
   "file_extension": ".py",
   "mimetype": "text/x-python",
   "name": "python",
   "nbconvert_exporter": "python",
   "pygments_lexer": "ipython2",
   "version": "2.7.11"
  }
 },
 "nbformat": 4,
 "nbformat_minor": 0
}