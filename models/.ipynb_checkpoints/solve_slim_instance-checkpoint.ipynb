{
 "cells": [
  {
   "cell_type": "markdown",
   "metadata": {
    "deletable": true,
    "editable": true
   },
   "source": [
    "# Solving the SLIM MIP"
   ]
  },
  {
   "cell_type": "markdown",
   "metadata": {
    "deletable": true,
    "editable": true
   },
   "source": [
    "This script shows how to solve the SLIM MIP using CPLEX. Here, we solve the MIP, run unit tests on the solution, and output the resulting scoring system model as well as some statistics about the MIP solver. Edit the variables in the following cell in order to pick a different instance."
   ]
  },
  {
   "cell_type": "code",
   "execution_count": 1,
   "metadata": {
    "collapsed": false,
    "deletable": true,
    "editable": true
   },
   "outputs": [],
   "source": [
    "data_name = 'breastcancer'\n",
    "instance_name = data_name + '_max_5_features'\n",
    "repository_dir = '/Users/berk/Desktop/Dropbox (MIT)/Research/SLIM/Toolboxes/miplib2017-slim'\n",
    "data_file = repository_dir + '/models/data/' + data_name + '_processed.csv'\n",
    "instance_file = repository_dir + '/instances/' + instance_name + '.mps'\n",
    "instance_info_file = repository_dir + '/misc/' + instance_name + '.p'"
   ]
  },
  {
   "cell_type": "markdown",
   "metadata": {
    "deletable": true,
    "editable": true
   },
   "source": [
    "The next cell loads packages and files needed to run the script. Use ``slim_mip.parameters`` to pass parameters for CPLEX."
   ]
  },
  {
   "cell_type": "code",
   "execution_count": 2,
   "metadata": {
    "collapsed": false,
    "deletable": true,
    "editable": true
   },
   "outputs": [
    {
     "name": "stdout",
     "output_type": "stream",
     "text": [
      "\n",
      "Selected objective sense:  MINIMIZE\n",
      "Selected objective  name:  obj\n",
      "Selected RHS        name:  rhs\n",
      "Selected bound      name:  bnd\n"
     ]
    }
   ],
   "source": [
    "import os\n",
    "import sys\n",
    "import numpy as np\n",
    "import cplex as cpx\n",
    "import pickle\n",
    "import slim as slim\n",
    "\n",
    "#load IP\n",
    "slim_mip = cpx.Cplex(instance_file)\n",
    "slim_info = pickle.load(open(instance_info_file))\n",
    "data = slim.load_data_from_csv(data_file)\n",
    "\n",
    "#set CPLEX IP parameters\n",
    "slim_mip.parameters.timelimit.set(60)\n",
    "slim_mip.parameters.randomseed.set(0)\n",
    "slim_mip.parameters.output.clonelog.set(0)\n",
    "slim_mip.parameters.threads.set(1)\n",
    "slim_mip.parameters.parallel.set(1)\n",
    "slim_mip.parameters.mip.tolerances.mipgap.set(np.finfo(np.float).eps)\n",
    "slim_mip.parameters.mip.tolerances.absmipgap.set(np.finfo(np.float).eps)\n",
    "slim_mip.parameters.mip.tolerances.integrality.set(np.finfo(np.float).eps)"
   ]
  },
  {
   "cell_type": "markdown",
   "metadata": {
    "deletable": true,
    "editable": true
   },
   "source": [
    "We now solve the slim_mip, and use ``slim.check_ip_solution`` to make sure that the solution passes unit tests."
   ]
  },
  {
   "cell_type": "code",
   "execution_count": 3,
   "metadata": {
    "collapsed": false,
    "deletable": true,
    "editable": true
   },
   "outputs": [
    {
     "ename": "NameError",
     "evalue": "name 'slim_IP' is not defined",
     "output_type": "error",
     "traceback": [
      "\u001b[0;31m---------------------------------------------------------------------------\u001b[0m",
      "\u001b[0;31mNameError\u001b[0m                                 Traceback (most recent call last)",
      "\u001b[0;32m<ipython-input-3-76b708647cc4>\u001b[0m in \u001b[0;36m<module>\u001b[0;34m()\u001b[0m\n\u001b[0;32m----> 1\u001b[0;31m \u001b[0mslim_IP\u001b[0m\u001b[0;34m.\u001b[0m\u001b[0msolve\u001b[0m\u001b[0;34m(\u001b[0m\u001b[0;34m)\u001b[0m\u001b[0;34m\u001b[0m\u001b[0m\n\u001b[0m\u001b[1;32m      2\u001b[0m \u001b[0;31m# slim.check_slim_ip_solution(slim_mip, slim_info, data)\u001b[0m\u001b[0;34m\u001b[0m\u001b[0;34m\u001b[0m\u001b[0m\n",
      "\u001b[0;31mNameError\u001b[0m: name 'slim_IP' is not defined"
     ]
    }
   ],
   "source": [
    "slim_mip.solve()\n",
    "# slim.check_slim_ip_solution(slim_mip, slim_info, data)"
   ]
  },
  {
   "cell_type": "code",
   "execution_count": null,
   "metadata": {
    "collapsed": true,
    "deletable": true,
    "editable": true
   },
   "outputs": [],
   "source": [
    "Get statistics for the MIP as well as the scoring system"
   ]
  },
  {
   "cell_type": "code",
   "execution_count": null,
   "metadata": {
    "collapsed": true,
    "deletable": true,
    "editable": true
   },
   "outputs": [],
   "source": [
    "slim_results = slim.get_slim_summary(slim_IP, slim_info, data)\n",
    "print(slim_results)"
   ]
  },
  {
   "cell_type": "code",
   "execution_count": null,
   "metadata": {
    "collapsed": true,
    "deletable": true,
    "editable": true
   },
   "outputs": [],
   "source": []
  }
 ],
 "metadata": {
  "kernelspec": {
   "display_name": "Python 2",
   "language": "python",
   "name": "python2"
  },
  "language_info": {
   "codemirror_mode": {
    "name": "ipython",
    "version": 2
   },
   "file_extension": ".py",
   "mimetype": "text/x-python",
   "name": "python",
   "nbconvert_exporter": "python",
   "pygments_lexer": "ipython2",
   "version": "2.7.11"
  }
 },
 "nbformat": 4,
 "nbformat_minor": 0
}
